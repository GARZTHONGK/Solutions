{
 "cells": [
  {
   "cell_type": "markdown",
   "id": "7d7aea34-6046-4bca-9f90-b77da3220feb",
   "metadata": {},
   "source": [
    "Introduktion Jupyter, Typer"
   ]
  },
  {
   "cell_type": "code",
   "execution_count": 1,
   "id": "c26a53e5-02c0-4292-9ad4-d48596e34488",
   "metadata": {},
   "outputs": [],
   "source": [
    "#  vis Restart Kernel"
   ]
  },
  {
   "cell_type": "code",
   "execution_count": null,
   "id": "c8225eb8-9df5-4598-bdd3-ddc49eab6e9b",
   "metadata": {},
   "outputs": [],
   "source": [
    "x=5"
   ]
  },
  {
   "cell_type": "code",
   "execution_count": null,
   "id": "5abd1b79-bc27-421e-aefc-47f969245e84",
   "metadata": {},
   "outputs": [],
   "source": [
    "print(x)"
   ]
  },
  {
   "cell_type": "code",
   "execution_count": null,
   "id": "3861608a-d475-4566-b551-de7ced13e72d",
   "metadata": {},
   "outputs": [],
   "source": [
    "x"
   ]
  },
  {
   "cell_type": "code",
   "execution_count": null,
   "id": "fd23fd81-7883-4d32-b0aa-a6d70b33587e",
   "metadata": {},
   "outputs": [],
   "source": [
    "x=7"
   ]
  },
  {
   "cell_type": "code",
   "execution_count": null,
   "id": "8ddc69f2-94cf-4512-bb7e-073a930eac4d",
   "metadata": {},
   "outputs": [],
   "source": [
    "type(x)"
   ]
  },
  {
   "cell_type": "code",
   "execution_count": null,
   "id": "bf4d15c9-1cca-4e1c-b15c-8d197987887d",
   "metadata": {},
   "outputs": [],
   "source": [
    "x=6.8"
   ]
  },
  {
   "cell_type": "code",
   "execution_count": null,
   "id": "75451c27-db2b-4153-85c1-116fd8ac376e",
   "metadata": {},
   "outputs": [],
   "source": [
    "type(x)"
   ]
  },
  {
   "cell_type": "code",
   "execution_count": null,
   "id": "b87b6edd-ac42-42fb-9f9b-76ae4541dea9",
   "metadata": {},
   "outputs": [],
   "source": [
    "x = \"hej\""
   ]
  },
  {
   "cell_type": "code",
   "execution_count": null,
   "id": "0aea1964-30cd-4404-888e-51bb6243f3ec",
   "metadata": {},
   "outputs": [],
   "source": [
    "type(x)"
   ]
  },
  {
   "cell_type": "code",
   "execution_count": null,
   "id": "c86972aa-10cd-4206-a055-299fa08f8782",
   "metadata": {},
   "outputs": [],
   "source": []
  }
 ],
 "metadata": {
  "kernelspec": {
   "display_name": "Python 3 (ipykernel)",
   "language": "python",
   "name": "python3"
  },
  "language_info": {
   "codemirror_mode": {
    "name": "ipython",
    "version": 3
   },
   "file_extension": ".py",
   "mimetype": "text/x-python",
   "name": "python",
   "nbconvert_exporter": "python",
   "pygments_lexer": "ipython3",
   "version": "3.10.7"
  }
 },
 "nbformat": 4,
 "nbformat_minor": 5
}
